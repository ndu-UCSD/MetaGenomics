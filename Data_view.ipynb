{
 "cells": [
  {
   "cell_type": "code",
   "execution_count": 1,
   "metadata": {},
   "outputs": [],
   "source": [
    "from IPython.core.display import display, HTML\n"
   ]
  },
  {
   "cell_type": "code",
   "execution_count": 20,
   "metadata": {},
   "outputs": [
    {
     "data": {
      "text/html": [
       "<h2>16S OTU reuslt</h2>\n",
       "<iframe src=\"./PCoA_16S.html\" style=\"border:none;\" width=1000 height=800 ></iframe>"
      ],
      "text/plain": [
       "<IPython.core.display.HTML object>"
      ]
     },
     "metadata": {},
     "output_type": "display_data"
    }
   ],
   "source": [
    "%%HTML\n",
    "<h2>16S OTU reuslt</h2>\n",
    "<iframe src=\"./PCoA_16S.html\" style=\"border:none;\" width=1000 height=800 ></iframe>\n"
   ]
  },
  {
   "cell_type": "code",
   "execution_count": 21,
   "metadata": {},
   "outputs": [
    {
     "data": {
      "text/html": [
       "<h2>18S V4 OTU reuslt - outliers trimmed off</h2>\n",
       "<iframe src=\"./PCoA_18S_V4_trimmed.html\" style=\"border:none;\" width=1000 height=800 ></iframe>"
      ],
      "text/plain": [
       "<IPython.core.display.HTML object>"
      ]
     },
     "metadata": {},
     "output_type": "display_data"
    }
   ],
   "source": [
    "%%HTML\n",
    "<h2>18S V4 OTU reuslt - outliers trimmed off</h2>\n",
    "<iframe src=\"./PCoA_18S_V4_trimmed.html\" style=\"border:none;\" width=1000 height=800 ></iframe>"
   ]
  },
  {
   "cell_type": "code",
   "execution_count": 19,
   "metadata": {},
   "outputs": [
    {
     "data": {
      "text/html": [
       "<h2>18S V4 OTU reuslt - all samples</h2>\n",
       "<iframe src=\"./PCoA_18S_V4_not_trimmed.html\" style=\"border:none;\" width=1000 height=800 ></iframe>"
      ],
      "text/plain": [
       "<IPython.core.display.HTML object>"
      ]
     },
     "metadata": {},
     "output_type": "display_data"
    }
   ],
   "source": [
    "%%HTML\n",
    "<h2>18S V4 OTU reuslt - all samples</h2>\n",
    "<iframe src=\"./PCoA_18S_V4_not_trimmed.html\" style=\"border:none;\" width=1000 height=800 ></iframe>"
   ]
  },
  {
   "cell_type": "code",
   "execution_count": 17,
   "metadata": {},
   "outputs": [
    {
     "data": {
      "text/html": [
       "<h2>18S V9 OTU reuslt</h2>\n",
       "<iframe src=\"./PCoA_18S_V9.html\" style=\"border:none;\" width=1000 height=800 ></iframe>"
      ],
      "text/plain": [
       "<IPython.core.display.HTML object>"
      ]
     },
     "metadata": {},
     "output_type": "display_data"
    }
   ],
   "source": [
    "%%HTML\n",
    "<h2>18S V9 OTU reuslt</h2>\n",
    "<iframe src=\"./PCoA_18S_V9.html\" style=\"border:none;\" width=1000 height=800 ></iframe>"
   ]
  },
  {
   "cell_type": "code",
   "execution_count": null,
   "metadata": {},
   "outputs": [],
   "source": []
  }
 ],
 "metadata": {
  "kernelspec": {
   "display_name": "Python 3",
   "language": "python",
   "name": "python3"
  },
  "language_info": {
   "codemirror_mode": {
    "name": "ipython",
    "version": 3
   },
   "file_extension": ".py",
   "mimetype": "text/x-python",
   "name": "python",
   "nbconvert_exporter": "python",
   "pygments_lexer": "ipython3",
   "version": "3.5.4"
  }
 },
 "nbformat": 4,
 "nbformat_minor": 2
}
