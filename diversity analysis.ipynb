{
 "cells": [
  {
   "cell_type": "code",
   "execution_count": 1,
   "metadata": {},
   "outputs": [],
   "source": [
    "# import public libraries\n",
    "import pandas as pd\n",
    "import numpy as np\n",
    "import pickle\n",
    "from IPython.display import IFrame\n",
    "import plotly.offline as py\n",
    "import plotly.graph_objs as go\n",
    "from plotly import tools\n",
    "import ecopy as ep\n",
    "\n",
    "# import private functions\n",
    "from function_diversity_analysis import Diversity_bar_plot,export_values\n",
    "\n",
    "import warnings\n",
    "warnings.filterwarnings(\"ignore\")\n",
    "\n",
    "%matplotlib inline"
   ]
  },
  {
   "cell_type": "code",
   "execution_count": 2,
   "metadata": {},
   "outputs": [],
   "source": [
    "# Example - 16S bar plots\n",
    "\n",
    "# Load in alpha diversity data \n",
    "df_bar_alpha_16S = pd.read_pickle('Data/df_bar_meta_for_plot_16S.pkl')\n",
    "\n",
    "with open(\"Data/dict_beta_all_for_plot_16S.pkl\", \"rb\") as f:\n",
    "     dict_beta_16S = pickle.load(f)"
   ]
  },
  {
   "cell_type": "code",
   "execution_count": 3,
   "metadata": {},
   "outputs": [],
   "source": [
    "AxB_table = [['season','year'],['year','season'],['year','region'],['region','season']]"
   ]
  },
  {
   "cell_type": "code",
   "execution_count": 4,
   "metadata": {},
   "outputs": [
    {
     "name": "stdout",
     "output_type": "stream",
     "text": [
      "This is the format of your plot grid:\n",
      "[ (1,1) x1,y1 ]\n",
      "[ (2,1) x2,y2 ]\n",
      "[ (3,1) x3,y3 ]\n",
      "[ (4,1) x4,y4 ]\n",
      "\n"
     ]
    },
    {
     "data": {
      "text/html": [
       "\n",
       "        <iframe\n",
       "            width=\"550\"\n",
       "            height=\"850\"\n",
       "            src=\"Output/16S_observed_otus.html\"\n",
       "            frameborder=\"0\"\n",
       "            allowfullscreen\n",
       "        ></iframe>\n",
       "        "
      ],
      "text/plain": [
       "<IPython.lib.display.IFrame at 0x7fb060788940>"
      ]
     },
     "execution_count": 4,
     "metadata": {},
     "output_type": "execute_result"
    }
   ],
   "source": [
    "# 16S alpha diversity reuslts\n",
    "\n",
    "Method_choice =  'observed_otus'\n",
    "image_size = [800,500]\n",
    "\n",
    "fig,layout = Diversity_bar_plot(df_alpha_meta = df_bar_alpha_16S,AxB_table = AxB_table,div_a_col=Method_choice, diversity_type='alpha', cols=1,Color_pattern = 'Spectral')\n",
    "fig['layout'].update(height=image_size[0], width=image_size[1],showlegend=False)\n",
    "export_values(fig).to_csv('Output/16S_'+Method_choice+'.csv')\n",
    "py.plot(fig,filename='Output/16S_'+Method_choice+'.html', auto_open=False)\n",
    "IFrame(src='Output/16S_'+Method_choice+'.html',height=image_size[0]+50, width=image_size[1]+50)"
   ]
  },
  {
   "cell_type": "code",
   "execution_count": null,
   "metadata": {},
   "outputs": [],
   "source": []
  }
 ],
 "metadata": {
  "kernelspec": {
   "display_name": "Python 3",
   "language": "python",
   "name": "python3"
  },
  "language_info": {
   "codemirror_mode": {
    "name": "ipython",
    "version": 3
   },
   "file_extension": ".py",
   "mimetype": "text/x-python",
   "name": "python",
   "nbconvert_exporter": "python",
   "pygments_lexer": "ipython3",
   "version": "3.5.4"
  }
 },
 "nbformat": 4,
 "nbformat_minor": 2
}
